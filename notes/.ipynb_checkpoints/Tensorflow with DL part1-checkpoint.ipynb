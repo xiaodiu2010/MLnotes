{
 "cells": [
  {
   "cell_type": "markdown",
   "metadata": {},
   "source": [
    "## Tensorflow Intro & DL case"
   ]
  },
  {
   "cell_type": "markdown",
   "metadata": {},
   "source": [
    "### Data Flow Graphs\n",
    "\n",
    "TensorFlow separates definition of computations from their execution\n",
    "![TensorFlow separates definition of computations from their execution.png](http://upload-images.jianshu.io/upload_images/733189-87c31fe47c81461e.png?imageMogr2/auto-orient/strip%7CimageView2/2/w/1240)\n",
    "\n",
    "### What's a tensor(张量)\n",
    "\n",
    "An n-dimensional matrix（在张量分析中，一般在2维矩阵的基础上加上时间维度组成3维张量，用以分析数据在时间轴上的变化时保持的性质，如果把object刻画为三位矩阵，再加上时间构成4维张量，那么通过张量运算，就可以用神经网络模拟object的manifold）\n",
    "\n",
    "### TensorFlow design pattern\n",
    "\n",
    "Tensor flow has two phases:  \n",
    "Phase 1: Assemble a graph\n",
    "Phase 2: Use a session to execute operations in the graph.\n",
    "To check the graph definition, run:\n",
    "\n",
    "``` python\n",
    "print tf.get_default_graph().as_graph_def()\n",
    "```"
   ]
  },
  {
   "cell_type": "code",
   "execution_count": 9,
   "metadata": {
    "collapsed": false
   },
   "outputs": [
    {
     "name": "stdout",
     "output_type": "stream",
     "text": [
      "Tensor(\"Add_5:0\", shape=(), dtype=int32)\n",
      "5\n",
      "5\n"
     ]
    }
   ],
   "source": [
    "import tensorflow as tf\n",
    "\n",
    "# add实际上定义了一个node，而2，3是edges(tensors)\n",
    "# node 还包括variables and constants\n",
    "a = tf.add(2,3)\n",
    "print a\n",
    "\n",
    "# The print function doesn't output 5,because now it is a graph\n",
    "# how to get value of a\n",
    "# Create a session and call it.\n",
    "sess = tf.Session()\n",
    "print sess.run(a)\n",
    "sess.close()\n",
    "# with a session,evaluate the graph\n",
    "with tf.Session() as sess:\n",
    "    print sess.run(a)"
   ]
  },
  {
   "cell_type": "markdown",
   "metadata": {},
   "source": [
    "### more graphs\n",
    "\n",
    "![Paste_Image.png](http://upload-images.jianshu.io/upload_images/733189-93725c9aa7f78995.png?imageMogr2/auto-orient/strip%7CimageView2/2/w/1240)\n",
    "\n",
    "Why design session?\n",
    "1. Save computation (only run subgraphs that lead\n",
    "to the values you want to fetch)\n",
    "2. Break computation into small, differential pieces\n",
    "to facilitates auto-differentiation\n",
    "3. Facilitate distributed computation, spread the\n",
    "work across multiple CPUs, GPUs, or devices\n",
    "4. Many common machine learning models are\n",
    "commonly taught and visualized as directed\n",
    "graphs already\n",
    "![Paste_Image.png](http://upload-images.jianshu.io/upload_images/733189-c6cb77618bef7a47.png?imageMogr2/auto-orient/strip%7CimageView2/2/w/1240)\n",
    "\n"
   ]
  },
  {
   "cell_type": "code",
   "execution_count": 11,
   "metadata": {
    "collapsed": false
   },
   "outputs": [
    {
     "name": "stdout",
     "output_type": "stream",
     "text": [
      "7776 10\n"
     ]
    }
   ],
   "source": [
    "# Tensorflow 确实难用\n",
    "x = 2\n",
    "y = 3\n",
    "op1 = tf.add(x, y)\n",
    "op2 = tf.mul(x, y)\n",
    "useless = tf.mul(x, op1)\n",
    "op3 = tf.pow(op2, op1)\n",
    "with tf.Session() as sess:\n",
    "    op3, not_useless = sess.run([op3, useless])\n",
    "    print op3, not_useless"
   ]
  },
  {
   "cell_type": "code",
   "execution_count": null,
   "metadata": {
    "collapsed": true
   },
   "outputs": [],
   "source": [
    "# To build a new graph\n",
    "g = tf.Graph()\n",
    "# g = tf.get_default_graph()\n",
    "# if you don't use with g.as_default():\n",
    "# you will add ops to the user created graph\n",
    "# remember, don't build two graph. It will destroy your program\n",
    "with g.as_default():\n",
    "    a = 3\n",
    "    b = 5\n",
    "    x = tf.add(a, b)\n",
    "\n",
    "sess = tf.Session(graph=g)\n",
    "# run the session\n",
    "sess.close()"
   ]
  },
  {
   "cell_type": "code",
   "execution_count": null,
   "metadata": {
    "collapsed": true
   },
   "outputs": [],
   "source": [
    "# another way to check the value of variables is call InteraciveSession\n",
    "sess = tf.InteractiveSession()\n",
    "a = tf.constant(5.0)\n",
    "b = tf.constant(6.0)\n",
    "c = a * b\n",
    "# We can just use 'c.eval()' without passing 'sess'\n",
    "print(c.eval())\n",
    "sess.close()"
   ]
  },
  {
   "cell_type": "markdown",
   "metadata": {},
   "source": [
    "### TensorBoard\n",
    "\n",
    "This is visualization tools for tensorflow\n",
    "Check the [guide](http://web.stanford.edu/class/cs20si/lectures/notes_02.pdf)"
   ]
  },
  {
   "cell_type": "markdown",
   "metadata": {},
   "source": [
    "### Tensor Constant\n",
    "you can creat constants of scalar or tensor values, [guide](https://www.tensorflow.org/api_docs/python/constant_op/)\n",
    "``` python \n",
    "tf.constant(value, dtype = None , shape = None ,name = 'Const', verify_shape = False) \n",
    "```"
   ]
  },
  {
   "cell_type": "code",
   "execution_count": null,
   "metadata": {
    "collapsed": true
   },
   "outputs": [],
   "source": [
    "# constant of 1d tensor (vector)\n",
    "a = tf.constant([2, 2], name=\"vector\")\n",
    "# constant of 2x2 tensor (matrix)\n",
    "b = tf.constant([[0, 1], [2, 3]], name=\"b\")"
   ]
  },
  {
   "cell_type": "code",
   "execution_count": 14,
   "metadata": {
    "collapsed": false
   },
   "outputs": [
    {
     "data": {
      "text/plain": [
       "<tf.Tensor 'zeros:0' shape=(2, 3) dtype=int32>"
      ]
     },
     "execution_count": 14,
     "metadata": {},
     "output_type": "execute_result"
    }
   ],
   "source": [
    "# **tf.zeros(shape,dtype =tf.float32, name=None)**\n",
    "# create a tensor of shape and all elements are zeros\n",
    "tf.zeros([2, 3], tf.int32) \n",
    "# ==> [[0, 0, 0], [0, 0, 0]]\n",
    "tf.zeros_like(input_tensor) \n",
    "# ==> [[0, 0], [0, 0], [0, 0]]\n",
    "tf.ones([2, 3], tf.int32)\n",
    "# ==> [[1, 1, 1], [1, 1, 1]]\n",
    "tf.ones_like(input_tensor) \n",
    "# ==> [[1, 1], [1, 1], [1, 1]]\n",
    "tf.fill([2, 3], 8) \n",
    "# ==> [[8, 8, 8], [8, 8, 8]]"
   ]
  },
  {
   "cell_type": "markdown",
   "metadata": {},
   "source": [
    "### Sequences\n",
    "Note that: **Sequences in tensorflow is not iterable**"
   ]
  },
  {
   "cell_type": "code",
   "execution_count": null,
   "metadata": {
    "collapsed": true
   },
   "outputs": [],
   "source": [
    "tf.linspace(10.0, 13.0, 4, name=\"linspace\") \n",
    "#==> [10.0 11.0 12.0 13.0]\n",
    "\n",
    "# 'start' is 3, 'limit' is 18, 'delta' is 3\n",
    "tf.range(start, limit, delta) \n",
    "# ==> [3, 6, 9, 12, 15]\n",
    "\n",
    "# 'start' is 3, 'limit' is 1, 'delta' is -0.5\n",
    "tf.range(start, limit, delta) \n",
    "# ==> [3, 2.5, 2, 1.5]\n",
    "# 'limit' is 5\n",
    "tf.range(limit) \n",
    "# ==> [0, 1, 2, 3, 4]"
   ]
  },
  {
   "cell_type": "markdown",
   "metadata": {},
   "source": [
    "### Generate statistical tensor\n",
    "\n",
    "``` python\n",
    "tf.random_normal(shape, mean=0.0, stddev=1.0, dtype=tf.float32, seed=None, name=None)\n",
    "tf.truncated_normal(shape, mean=0.0, stddev=1.0, dtype=tf.float32, seed=None,\n",
    "name=None)\n",
    "tf.random_uniform(shape, minval=0, maxval=None, dtype=tf.float32, seed=None,\n",
    "name=None)\n",
    "tf.random_shuffle(value, seed=None, name=None)\n",
    "tf.random_crop(value, size, seed=None, name=None)\n",
    "tf.multinomial(logits, num_samples, seed=None, name=None)\n",
    "tf.random_gamma(shape, alpha, beta=None, dtype=tf.float32, seed=None, name=None)\n",
    "```"
   ]
  },
  {
   "cell_type": "markdown",
   "metadata": {},
   "source": [
    "### [Math operations](https://www.tensorflow.org/api_docs/python/math_ops/arithmetic_operators#multiply)\n",
    "here is a list of operations in tensorflow\n",
    "\n",
    "![Paste_Image.png](http://upload-images.jianshu.io/upload_images/733189-6e3b9801d4812ac6.png?imageMogr2/auto-orient/strip%7CimageView2/2/w/1240)\n",
    "\n",
    "``` python\n",
    "a = tf.constant([3, 6])\n",
    "b = tf.constant([2, 2])\n",
    "tf.add(a, b) # >> [5 8]\n",
    "tf.add_n([a, b, b]) # >> [7 10]. Equivalent to a + b + b\n",
    "tf.mul(a, b) # >> [6 12] because mul is element wise\n",
    "tf.matmul(a, b) # >> ValueError\n",
    "tf.matmul(tf.reshape(a, shape=[1, 2]), tf.reshape(b, shape=[2, 1])) # >> [[18]]\n",
    "tf.div(a, b) # >> [1 3]\n",
    "tf.mod(a, b) # >> [1 0]\n",
    "```"
   ]
  },
  {
   "cell_type": "markdown",
   "metadata": {},
   "source": [
    "### Data Type\n",
    "\n",
    "Use the sequence function can turn the python native types into tensor. On the other hand, Tensorflow is well designed to intergrate seamlessly with Numpy. \n",
    "Like Numpy, tensor have [data types](https://www.tensorflow.org/versions/r0.11/resources/dims_types) like tf.int32\n"
   ]
  },
  {
   "cell_type": "markdown",
   "metadata": {},
   "source": [
    "### Variables\n",
    "\n",
    "The most important thing about variables in tensorflow is **A constant's value is stored in the graph and its value is replicated wherever the graph is\n",
    "loaded. A variable is stored separately, and may live on a parameter server.**\n",
    "For variables, they have many ops(like methods in oop):  \n",
    "``` python\n",
    "x = tf.Variable(...)\n",
    "x.initializer # init\n",
    "x.value() # read op\n",
    "x.assign(...) # write op\n",
    "x.assign_add(...)\n",
    "# and more\n",
    "```\n",
    "Before running session, you need to initial all variables. To do this,you can:\n",
    "``` python\n",
    "init = tf.global_variables_initializer()\n",
    "# or initial sub_variables\n",
    "init_ab = tf.variables_initializer([a, b], name=\"init_ab\")\n",
    "```"
   ]
  },
  {
   "cell_type": "code",
   "execution_count": null,
   "metadata": {
    "collapsed": true
   },
   "outputs": [],
   "source": [
    "#create variable a with scalar value\n",
    "a = tf.Variable(2, name=\"scalar\")\n",
    "#create variable b as a vector\n",
    "b = tf.Variable([2, 3], name=\"vector\")\n",
    "#create variable c as a 2x2 matrix\n",
    "c = tf.Variable([[0, 1], [2, 3]], name=\"matrix\")\n",
    "# create variable W as 784 x 10 tensor, filled with zeros\n",
    "W = tf.Variable(tf.zeros([784,10]))"
   ]
  },
  {
   "cell_type": "code",
   "execution_count": null,
   "metadata": {
    "collapsed": true
   },
   "outputs": [],
   "source": [
    "# W is a random 700 x 100 variable object\n",
    "W = tf.Variable(tf.truncated_normal([700, 10]))\n",
    "with tf.Session() as sess:\n",
    "    sess.run(W.initializer)\n",
    "    print W\n",
    "# Tensor(\"Variable/read:0\", shape=(700, 10), dtype=float32)\n",
    "\n",
    "# To get the value of variables\n",
    "W = tf.Variable(tf.truncated_normal([700, 10]))\n",
    "with tf.Session() as sess:\n",
    "    sess.run(W.initializer)\n",
    "    print W.eval()"
   ]
  },
  {
   "cell_type": "markdown",
   "metadata": {},
   "source": [
    "### Variables value assignment\n",
    "This is very painful when using assginment in tensorflow. Like this:\n",
    "``` python\n",
    "W = tf.Variable(10)\n",
    "W.assign(100)\n",
    "with tf.Session() as sess:\n",
    "    sess.run(W.initializer)\n",
    "    print W.eval() # >> 10\n",
    "```\n",
    "\n",
    "Assign doesn't work.Why? Because assgin return a op,and if you want get its value, you nedd run this op like this:\n",
    "``` python\n",
    "W = tf.Variable(10)\n",
    "assign_op = W.assign(100)\n",
    "with tf.Session() as sess:\n",
    "    sess.run(assign_op)\n",
    "    print W.eval() # >> 100\n",
    "```\n",
    "Remember, this is an op rather than a variable. So every you call it by run, it will reexcute op in it. Like this:\n",
    "``` python\n",
    "# create a variable whose original value is 2\n",
    "a = tf.Variable(2, name=\"scalar\")\n",
    "# assign a * 2 to a and call that op a_times_two\n",
    "a_times_two = a.assign(a * 2)\n",
    "init = tf.global_variables_initializer()\n",
    "with tf.Session() as sess:\n",
    "    sess.run(init)\n",
    "    # have to initialize a, because a_times_two op depends on the value of a\n",
    "    sess.run(a_times_two) # >> 4\n",
    "    sess.run(a_times_two) # >> 8\n",
    "    sess.run(a_times_two) # >> 16\n",
    "```\n",
    "If you want simple increse or decrese variables, you can call assign_add() or assign_sub() methods on variables.\n",
    "\n",
    "**Because TensorFlow sessions maintain values separately, each Session can have its own current value for a variable defined in a graph.**\n",
    "如此绕的结构设计真是醉了"
   ]
  },
  {
   "cell_type": "markdown",
   "metadata": {},
   "source": [
    "### Control dependencies\n",
    "Sometimes, we will have two independent ops but you’d like to specify which op should be run first, then you use tf.Graph.control_dependencies(control_inputs)(这是什么👻！)\n",
    "```python\n",
    "# your graph g have 5 ops: a, b, c, d, e\n",
    "with g.control_dependencies([a, b, c]):\n",
    "    # `d` and `e` will only run after `a`, `b`, and `c` have executed.\n",
    "    d = ...\n",
    "    e = …\n",
    "```"
   ]
  },
  {
   "cell_type": "markdown",
   "metadata": {},
   "source": [
    "### PlaceHolder And feed_dict\n",
    "不想说什么\n",
    "``` python\n",
    "a = tf.placeholder(tf.float32, shape=[3])\n",
    "with tf.Session() as sess:\n",
    "    # feed [1, 2, 3] to placeholder a via the dict {a: [1, 2, 3]}\n",
    "    # 竟然还有用字典给variable赋值的，你真的是google造的吗！！！\n",
    "    print(sess.run(c, {a: [1, 2, 3]}))\n",
    "```\n",
    "To check weather a variable is feedable?\n",
    "``` python\n",
    "tf.Graph.is_feedable(tensor)\n",
    "# create Operations, Tensors, etc (using the default graph)\n",
    "a = tf.add(2, 5)\n",
    "b = tf.mul(a, 3)\n",
    "# start up a `Session` using the default graph\n",
    "sess = tf.Session()\n",
    "# define a dictionary that says to replace the value of `a` with 15\n",
    "replace_dict = {a: 15}\n",
    "# Run the session, passing in `replace_dict` as the value to `我的😲`\n",
    "sess.run(b, feed_dict=replace_dict) # returns 45\n",
    "```"
   ]
  },
  {
   "cell_type": "code",
   "execution_count": null,
   "metadata": {
    "collapsed": true
   },
   "outputs": [],
   "source": []
  }
 ],
 "metadata": {
  "kernelspec": {
   "display_name": "keras_tf_2.7",
   "language": "python",
   "name": "tensorflow2.7"
  },
  "language_info": {
   "codemirror_mode": {
    "name": "ipython",
    "version": 2
   },
   "file_extension": ".py",
   "mimetype": "text/x-python",
   "name": "python",
   "nbconvert_exporter": "python",
   "pygments_lexer": "ipython2",
   "version": "2.7.13"
  }
 },
 "nbformat": 4,
 "nbformat_minor": 0
}
