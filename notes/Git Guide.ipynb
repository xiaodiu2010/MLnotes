{
 "cells": [
  {
   "cell_type": "markdown",
   "metadata": {},
   "source": [
    "This notebook is note for class [Advanced Python for Data Science](https://swcarpentry.github.io/git-novice/)\n",
    "You can read more materials about Licensing, Citation etc.."
   ]
  },
  {
   "cell_type": "markdown",
   "metadata": {},
   "source": [
    "### editor short-cut\n",
    "When you look inside a log file or open an file in editor.\n",
    "The following tricks will be very useful.\n",
    "\n",
    "* To get out of the pager, press q.\n",
    "* To move to the next page, press the space bar.\n",
    "* To search for some_word in all pages, type /some_word and navigate throught matches pressing n.\n"
   ]
  },
  {
   "cell_type": "markdown",
   "metadata": {},
   "source": [
    "### git set up\n"
   ]
  },
  {
   "cell_type": "code",
   "execution_count": null,
   "metadata": {
    "collapsed": true
   },
   "outputs": [],
   "source": [
    "# set global or local information\n",
    "git config --global user.name \"don't run\"\n",
    "git config --global user.email \"account's email address\"\n",
    "git config --global colo.ui \"auto\"\n",
    "git config --global colo.ui \"auto\"\n",
    "\n",
    "# set the favorate editor\n",
    "git config --global core.editor \"atom --wait\"\n",
    "git config --global core.editor \"subl -n -w\"\n",
    "git config --global core.editor \"vim\"\n",
    "\n",
    "# check the config\n",
    "git config --list\n",
    "git config --help(-h)"
   ]
  },
  {
   "cell_type": "markdown",
   "metadata": {},
   "source": [
    "### git initialization and tracking change"
   ]
  },
  {
   "cell_type": "code",
   "execution_count": null,
   "metadata": {
    "collapsed": true
   },
   "outputs": [],
   "source": [
    "# initial a repostory locally\n",
    "# it will make the .git dictionary\n",
    "git init\n",
    "\n",
    "# check the status\n",
    "# It will list all information of project\n",
    "# especially the \"Changes not staged for commit\" file\n",
    "# and \"Untracked files:\" \n",
    "# The “untracked files” message means that there’s a file \n",
    "# in the directory that Git isn’t keeping track of. \n",
    "# We can tell Git to track a file using git add:\n",
    "# If everything goes well, It will show just basic info.\n",
    "git status\n",
    "git add \"some.file\"\n",
    "\n",
    "# Git now knows that it’s supposed to keep track of mars.txt, \n",
    "# but it hasn’t recorded these changes as a commit yet. \n",
    "# To get it to do that, we need to run one more command:\n",
    "# git commit means git will take all we add and save them in .git \n",
    "# permanently with a commit message.\n",
    "# So the size of .git will be very large if you add some big file\n",
    "# So never do it.\n",
    "# git commit is like a snapspot of file and store it in .git\n",
    "git commit -m \"some message\"\n",
    "\n",
    "# If you want to check the commit history\n",
    "git log\n",
    "\n",
    "# This shows us the differences between the current state of the \n",
    "# file and the most recently saved version:\n",
    "# This will tell the git what has changed\n",
    "git diff\n",
    "\n",
    "# git diff --staged show different betwwen the last commited change\n",
    "# and what's in the staging area."
   ]
  },
  {
   "cell_type": "markdown",
   "metadata": {},
   "source": [
    "    diff --git a/mars.txt b/mars.txt\n",
    "    index df0654a..315bf3a 100644\n",
    "    --- a/mars.txt\n",
    "    +++ b/mars.txt\n",
    "    @@ -1 +1,2 @@\n",
    "     Cold and dry, but everything is my favorite color\n",
    "    +The two moons may be a problem for Wolfman\n",
    "\n",
    "The output of ```git diff``` is cryptic because it is actually a series of commands for tools like editors and patch telling them how to reconstruct one file given the other. If we break it down into pieces:\n",
    "\n",
    "* The first line tells us that Git is producing output similar to the Unix diff command comparing the old and new versions of the file.\n",
    "* The second line tells exactly which versions of the file Git is comparing; df0654a and 315bf3a are unique computer-generated labels for those versions.\n",
    "* The third and fourth lines once again show the name of the file being changed.\n",
    "* The remaining lines are the most interesting, they show us the actual differences and the lines on which they occur. In particular, the + marker in the first column shows where we added a line."
   ]
  },
  {
   "cell_type": "markdown",
   "metadata": {},
   "source": [
    "### exploring history"
   ]
  },
  {
   "cell_type": "code",
   "execution_count": null,
   "metadata": {
    "collapsed": true
   },
   "outputs": [],
   "source": [
    "# check what every commit do in ```git diff```\n",
    "git diff HEAD~k file.name # k is a number k = 1,2,....\n",
    "git diff HEAD~123 file.name # goes back 123 commits form where  \n",
    "                            # we are now\n",
    "git diff ID of commit file.name # check change through commit ID\n",
    "\n",
    "# how to roll back the former stage\n",
    "git check out HEAD file.name # 回滚到之前的file状态\n"
   ]
  },
  {
   "cell_type": "markdown",
   "metadata": {},
   "source": [
    "### ignoring things\n",
    "If you have some files like intermediate files you created during data analysis that you don't want git to track .\n",
    "you can add them to .gitignore file"
   ]
  },
  {
   "cell_type": "code",
   "execution_count": null,
   "metadata": {
    "collapsed": true
   },
   "outputs": [],
   "source": [
    "touch .gitignore  # create this file in root of project\n",
    "    # *.data\n",
    "    # results/\n",
    "    # you can add this to this file, it tells any datafile and files\n",
    "    # under results/ won't be tracked by git(can't be added)\n",
    "\n",
    "git add .gitignore\n",
    "git commit -m \"Add the ignore file\"\n",
    "git status"
   ]
  },
  {
   "cell_type": "markdown",
   "metadata": {},
   "source": [
    "### Remotes in github\n",
    "If you want to store your project on website. or collabrate with others on same project. You need put you project on a server like github. And then build a connect between two project."
   ]
  },
  {
   "cell_type": "code",
   "execution_count": null,
   "metadata": {
    "collapsed": true
   },
   "outputs": [],
   "source": [
    "# connect your local project with the one on server\n",
    "# or add another project connection\n",
    "git remote add project_url\n",
    "git remote add cs9053 git@github.com:NYU-CS9053/Spring-2017.git\n",
    "# to check the command has worked by running git remote -v\n",
    "git remote -v"
   ]
  },
  {
   "cell_type": "markdown",
   "metadata": {},
   "source": [
    "    origin   https://github.com/vlad/planets.git (push)\n",
    "    origin   https://github.com/vlad/planets.git (fetch)\n",
    "   \n",
    "The name origin is a local nickname for your remote repository: we could use something else if we wanted to, but origin is by far the most common choice."
   ]
  },
  {
   "cell_type": "code",
   "execution_count": null,
   "metadata": {
    "collapsed": true
   },
   "outputs": [],
   "source": [
    "# push your local change to remote server(after commit)\n",
    "git push origin master\n",
    "git push \n",
    "\n",
    "# To update the local project from remote server\n",
    "git pull\n",
    "git pull origin master"
   ]
  }
 ],
 "metadata": {
  "kernelspec": {
   "display_name": "Bash",
   "language": "bash",
   "name": "bash"
  },
  "language_info": {
   "codemirror_mode": "shell",
   "file_extension": ".sh",
   "mimetype": "text/x-sh",
   "name": "bash"
  }
 },
 "nbformat": 4,
 "nbformat_minor": 0
}
