{
 "cells": [
  {
   "cell_type": "markdown",
   "metadata": {},
   "source": [
    "### what's the number of parameters of multi-logistic model\n",
    "input is 28*28 image, and the output is ten classes(use softmax as classifier)"
   ]
  },
  {
   "cell_type": "markdown",
   "metadata": {},
   "source": [
    "### The limitation of linear model and its advantages\n",
    "Can't resovle the XOR problem\n",
    "The computation process is very efficient(GPU)\n",
    "Linear operations is very stable\n",
    "    It means a small change in the input can never yield a big change in output\n",
    "Also,the derivative is very nice too.The result of derivative of linear model is always constants\n",
    "So, What we need to do is make a more sophisticated model based on linear model,and keep its goog properties."
   ]
  },
  {
   "cell_type": "markdown",
   "metadata": {},
   "source": [
    "### Activate functions\n",
    "* ReLUs(Rectifield Linear Units)\n"
   ]
  },
  {
   "cell_type": "markdown",
   "metadata": {},
   "source": [
    "### Back propagation Algorithms\n",
    "1.What's the Chain rule\n",
    "2.How the data pipeline help reduce the workload \n",
    "3.Back propagation\n",
    "4.Back propagation will need twice more space for computing and storage,Why?\n"
   ]
  },
  {
   "cell_type": "markdown",
   "metadata": {},
   "source": [
    "### Why Deep network is working\n",
    "Perceptron can be seen as a linear model,but it can't resovle the XOR problem.\n",
    "However if we add the hidden layer of network to make it a deep one,It will solve the XOR problem\n",
    "Actually, enough linear models can fit any type of functions,such as circles and even more sophisticated shapes\n",
    "Intuitively,the deep network can solve any type of classifier problem,and it will be very qualified for image problem.\n"
   ]
  },
  {
   "cell_type": "markdown",
   "metadata": {},
   "source": [
    "### Regularization\n",
    "Skinny jean anology problem"
   ]
  }
 ],
 "metadata": {
  "anaconda-cloud": {},
  "kernelspec": {
   "display_name": "Python [conda env:py27]",
   "language": "python",
   "name": "conda-env-py27-py"
  },
  "language_info": {
   "codemirror_mode": {
    "name": "ipython",
    "version": 2
   },
   "file_extension": ".py",
   "mimetype": "text/x-python",
   "name": "python",
   "nbconvert_exporter": "python",
   "pygments_lexer": "ipython2",
   "version": "2.7.13"
  }
 },
 "nbformat": 4,
 "nbformat_minor": 1
}
